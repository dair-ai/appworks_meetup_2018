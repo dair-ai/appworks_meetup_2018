{
 "cells": [
  {
   "cell_type": "markdown",
   "metadata": {},
   "source": [
    "# Abstractive Text Summarization with Seq2Seq Using PyTorch\n",
    "This notebook aims to perform abstractive text summarization for article-title pairs using PyTorch. In other words the goal is to make use of the `article-title` pair information to train a seq2seq model for predicting (summarizing) a suitable title for a news story. Abstractive text summarization is challenging because in this scenario the model can generate a summary based on an actual abstracted summary and can even use words that are not present in the original input. The techniques that will be used in this tutorial are adopted from the paper [\"Abstractive Text Summarization using Sequence-to-sequence RNNs and Beyond\"](https://arxiv.org/pdf/1602.06023.pdf).\n",
    "\n",
    "In this tutorial you will learn the following:\n",
    "- Implement LSTMs, GRUs, biLSTMS, etc.\n",
    "- Text processing using spaCy\n",
    "- Batch data processing\n",
    "- Implement attention mechanism\n",
    "- Use pretrained vectors from GloVe\n",
    "- Sample with attention plots"
   ]
  },
  {
   "cell_type": "markdown",
   "metadata": {},
   "source": [
    "## Setup\n",
    "Let's first install all the necessary libraries such as PyTorch and fastai."
   ]
  },
  {
   "cell_type": "code",
   "execution_count": 1,
   "metadata": {},
   "outputs": [],
   "source": [
    "#!pip install fastai==0.7.0\n",
    "#!pip install torch==0.4.1\n",
    "#!pip install spacy"
   ]
  },
  {
   "cell_type": "markdown",
   "metadata": {},
   "source": [
    "## 1. Data Exploration\n",
    "Before diving deep with your models and data, it's always important to explore your data and understand its properties. To load our data, we are going to use [torchtext](https://github.com/pytorch/text), but you can choose to use any data processing library you wish. Torchtext will allow us to keep this tutorial simple since it already offers a lot of functions, such as padding and numericalization, to process our dataset."
   ]
  },
  {
   "cell_type": "code",
   "execution_count": 2,
   "metadata": {},
   "outputs": [
    {
     "name": "stdout",
     "output_type": "stream",
     "text": [
      "\n",
      "\u001b[93m    Linking successful\u001b[0m\n",
      "    /home/ellfae/anaconda3/lib/python3.6/site-packages/en_core_web_sm -->\n",
      "    /home/ellfae/anaconda3/lib/python3.6/site-packages/spacy/data/en\n",
      "\n",
      "    You can now load the model via spacy.load('en')\n",
      "\n"
     ]
    }
   ],
   "source": [
    "#import data, vocab from torchtext \n",
    "from torchtext import data, vocab\n",
    "import spacy.cli\n",
    "spacy.cli.download(\"en\")"
   ]
  },
  {
   "cell_type": "code",
   "execution_count": 3,
   "metadata": {},
   "outputs": [],
   "source": [
    "%matplotlib inline"
   ]
  },
  {
   "cell_type": "code",
   "execution_count": 4,
   "metadata": {},
   "outputs": [],
   "source": [
    "# directory path to dataset\n",
    "DATA_PATH = 'data/'\n",
    "SAMPLE_DATA_PATH = f'{DATA_PATH}sample_data/'\n",
    "PROCESSED_DATA_PATH = f'{DATA_PATH}processed_data/'"
   ]
  },
  {
   "cell_type": "markdown",
   "metadata": {},
   "source": [
    "One thing to keep in mind is that this will be a computation heavy NLP task. So we would like to first test our models with a sample of the original dataset. We have generated a sample of our training and testing datasets already. You can also obtain the original dataset used for this tutorial [here](https://drive.google.com/file/d/0B6N7tANPyVeBNmlSX19Ld2xDU1E/view). "
   ]
  },
  {
   "cell_type": "markdown",
   "metadata": {},
   "source": [
    "In the code below, we are using the spaCy tokenizer and we are converting our dataset to a nice format. "
   ]
  },
  {
   "cell_type": "code",
   "execution_count": 5,
   "metadata": {},
   "outputs": [],
   "source": [
    "tokenizer = data.get_tokenizer('spacy')\n",
    "TEXT = data.Field(tokenize=tokenizer, lower=True, eos_token='_eos_')\n",
    "trn_data_fields = [(\"source\", TEXT),\n",
    "                   (\"target\", TEXT)]\n",
    "\n",
    "trn, vld = data.TabularDataset.splits(path=f'{SAMPLE_DATA_PATH}',\n",
    "                                     train='train_ds.csv', validation='valid_ds.csv',\n",
    "                                     format='csv', skip_header=True, fields=trn_data_fields)"
   ]
  },
  {
   "cell_type": "code",
   "execution_count": 6,
   "metadata": {},
   "outputs": [
    {
     "name": "stdout",
     "output_type": "stream",
     "text": [
      "Source: ['the', 'government', 'credited', 'new', 'zealand', \"'s\", 'reputation', 'for', 'having', 'a', 'pristine', 'environment', 'for', 'the', 'nearly', '#', 'percent', 'rise', 'in', 'tourism', 'revenue', 'for', 'the', 'year', 'through', 'march', '#', '#', '#', '#', 'to', 'a', 'record', 'of', 'more', 'than', 'us$', '#', '#', 'billion', '-lrb-', 'nz$', '#', '#', 'billion', '-rrb-', '.']\n",
      "Target: ['new', 'zealand', 'tourism', 'revenue', 'rises', 'nearly', '#', 'percent', 'to', 'record', 'us$', '#', '#', '.', '#', 'billion']\n",
      "Source: ['rep', '.', 'john', 'doolittle', \"'s\", 'practice', 'of', 'paying', 'a', '#', '#', 'percent', 'fundraising', 'commission', 'to', 'a', 'company', 'owned', 'by', 'his', 'wife', ',', 'julie', ',', 'has', 'come', 'under', 'attack', 'from', 'a', 'professional', 'association', 'of', 'fundraisers', '.']\n",
      "Target: ['group', 'challenges', 'doolittle', 'wife', 'on', 'fundraising']\n",
      "Source: ['the', 'government', 'raised', 'the', 'nationwide', 'terror', 'alert', 'to', 'its', 'second', '-', 'highest', 'level', ',', 'closed', 'nine', 'u.s', '.', 'embassies', 'overseas', 'and', 'heightened', 'security', 'at', 'federal', 'buildings', 'and', 'landmarks', 'in', 'america', 'as', 'new', 'intelligence', 'warned', 'of', 'car', 'bombings', ',', 'suicide', 'attacks', 'and', 'other', 'strikes', 'linked', 'to', 'the', 'sept', '.', '#', '#', 'anniversary', '.']\n",
      "Target: ['bush', 'administration', 'warns', 'of', 'heightened', 'threat', 'for', 'terrorist', 'strike']\n"
     ]
    }
   ],
   "source": [
    "# Let's print out an example using the loaders we defined above\n",
    "for i in range(3):\n",
    "    print(\"Source:\", trn[i].source)\n",
    "    print(\"Target:\", trn[i].target)"
   ]
  },
  {
   "cell_type": "markdown",
   "metadata": {},
   "source": [
    "We can see that the instances are already tokenized. That's great! Let's just get back the original to see the examples more clearly."
   ]
  },
  {
   "cell_type": "code",
   "execution_count": 7,
   "metadata": {},
   "outputs": [
    {
     "name": "stdout",
     "output_type": "stream",
     "text": [
      "Source: the government credited new zealand 's reputation for having a pristine environment for the nearly # percent rise in tourism revenue for the year through march # # # # to a record of more than us$ # # billion -lrb- nz$ # # billion -rrb- .\n",
      "Target: new zealand tourism revenue rises nearly # percent to record us$ # # . # billion\n",
      "\n",
      "\n",
      "Source: rep . john doolittle 's practice of paying a # # percent fundraising commission to a company owned by his wife , julie , has come under attack from a professional association of fundraisers .\n",
      "Target: group challenges doolittle wife on fundraising\n",
      "\n",
      "\n",
      "Source: the government raised the nationwide terror alert to its second - highest level , closed nine u.s . embassies overseas and heightened security at federal buildings and landmarks in america as new intelligence warned of car bombings , suicide attacks and other strikes linked to the sept . # # anniversary .\n",
      "Target: bush administration warns of heightened threat for terrorist strike\n",
      "\n",
      "\n"
     ]
    }
   ],
   "source": [
    "for i in range(3):\n",
    "    print(\"Source:\", \" \".join(trn[i].source))\n",
    "    print(\"Target:\", \" \".join(trn[i].target))\n",
    "    print(\"\\n\")"
   ]
  },
  {
   "cell_type": "markdown",
   "metadata": {},
   "source": [
    "There you go! Those are our `article-title` pairs."
   ]
  },
  {
   "cell_type": "markdown",
   "metadata": {},
   "source": [
    "## 2. Preprocess the dataset\n",
    "Before we start setting up our models, we need to pre-process our dataset and transform it in a way that the models can understand. We will do things like tokenizing, generating vocabulary, creating dataset iterators, batching, padding, and much more."
   ]
  },
  {
   "cell_type": "markdown",
   "metadata": {},
   "source": [
    "### Build Vocabulary\n",
    "One key step in any NLP problem, is to build a vocabulary from our dataset, since these essentially become the input features in our model. Well, they are the basis of our input features, but I will discuss later in the tutorial what I mean by that. For now, let's try to generate a vocabulary from the datasets.\n",
    "\n",
    "In building the vocabulary, we want to use it to generate `token->index` pairs. This way we associate each token in the article and titles with an integer value, which will be used to generate word embedding features. \n",
    "\n",
    "Now that I mentioned the word embeddings, these will represent the input features of our models. We will use pretrained word embeddings from GloVe in this tutorial."
   ]
  },
  {
   "cell_type": "code",
   "execution_count": 8,
   "metadata": {},
   "outputs": [],
   "source": [
    "# load the pretrained embeddings and build the vocabulary\n",
    "# Notice that we are only using the training dataset here!\n",
    "# NOTE: The embeddings will take a couple minutes to download\n",
    "pre_trained_vector_type = 'glove.6B.200d' \n",
    "TEXT.build_vocab(trn, vectors=pre_trained_vector_type )"
   ]
  },
  {
   "cell_type": "code",
   "execution_count": 9,
   "metadata": {},
   "outputs": [
    {
     "data": {
      "text/plain": [
       "[('#', 151222),\n",
       " ('the', 130963),\n",
       " ('.', 105044),\n",
       " (',', 85365),\n",
       " ('to', 83863),\n",
       " ('in', 77726),\n",
       " ('of', 77411),\n",
       " ('a', 71221),\n",
       " ('on', 43194),\n",
       " ('and', 42839)]"
      ]
     },
     "execution_count": 9,
     "metadata": {},
     "output_type": "execute_result"
    }
   ],
   "source": [
    "#10 most frequent words in the vocab\n",
    "TEXT.vocab.freqs.most_common(10)"
   ]
  },
  {
   "cell_type": "markdown",
   "metadata": {},
   "source": [
    "### Dataset Iterator / Batches / Tensors / Padding \n",
    "The first thing we want to do with our datasets is to covert them to tensor objects using the vocabulary indices we generated above. We would like those vectors in the tensors to be padded (with similar lengths placed together). In order to efficiently iterate over the datasets, and to create batches, we will use the `data.BucketIterator.splits` function available from the `data` module in `torchtext`."
   ]
  },
  {
   "cell_type": "code",
   "execution_count": 10,
   "metadata": {},
   "outputs": [
    {
     "name": "stdout",
     "output_type": "stream",
     "text": [
      "Using cuda\n",
      "Torch version: 0.4.1\n"
     ]
    }
   ],
   "source": [
    "import torch\n",
    "\n",
    "USE_GPU = \"cuda\" if torch.cuda.is_available() else \"cpu\"\n",
    "print(\"Using {}\".format(USE_GPU))\n",
    "print(\"Torch version: {}\".format(torch.__version__))\n",
    "\n",
    "# batches\n",
    "batch_size = 32\n",
    "train_iter, val_iter = data.BucketIterator.splits(\n",
    "                        (trn, vld), batch_sizes=(batch_size, int(batch_size*1.6)),\n",
    "                        device= -1,#(0 if USE_GPU else -1), \n",
    "                        sort_key=lambda x: len(x.source),\n",
    "                        shuffle=True, sort_within_batch=False, repeat=False)"
   ]
  },
  {
   "cell_type": "markdown",
   "metadata": {},
   "source": [
    "Once we have the batch iterators, we convert `article-title` pairs into `source-target` tuples (article, title), which simplifies things when training time arrives. This is no different from pairing a document to a label in the sentiment classification setting, just that in this case the target is the title and the source is the article."
   ]
  },
  {
   "cell_type": "code",
   "execution_count": 11,
   "metadata": {},
   "outputs": [],
   "source": [
    "class BatchTuple():\n",
    "    def __init__(self, dataset, x_var, y_var):\n",
    "        self.dataset, self.x_var, self.y_var = dataset, x_var, y_var\n",
    "        \n",
    "    def __iter__(self):\n",
    "        for batch in self.dataset:\n",
    "            x = getattr(batch, self.x_var) \n",
    "            y = getattr(batch, self.y_var)                 \n",
    "            yield (x, y)\n",
    "            \n",
    "    def __len__(self):\n",
    "        return len(self.dataset)"
   ]
  },
  {
   "cell_type": "code",
   "execution_count": 12,
   "metadata": {},
   "outputs": [],
   "source": [
    "# returns tuple of article-title pair tensors\n",
    "train_iter_tuple = BatchTuple(train_iter, \"source\", \"target\")\n",
    "val_iter_tuple = BatchTuple(val_iter, \"source\", \"target\")"
   ]
  },
  {
   "cell_type": "code",
   "execution_count": 13,
   "metadata": {},
   "outputs": [],
   "source": [
    "# an example of a batched and padded article-title tensor pair\n",
    "sample = next(iter(train_iter_tuple))"
   ]
  },
  {
   "cell_type": "code",
   "execution_count": 14,
   "metadata": {},
   "outputs": [
    {
     "data": {
      "text/plain": [
       "(tensor([[   81,     4,  1672,     4,   785, 11068,    53,  2998,    11,  2082,\n",
       "             22,   176,   653,  3470, 17098,  2382,  1251,     4,     4,    10,\n",
       "            419,    15,   394,  3923,  8372,    15,   226,    92,    25,    10,\n",
       "            411,     8],\n",
       "         [  443,   480, 16866,  1295,   872,  2609,  2702,    12,   637,    35,\n",
       "             24,   712,  6258,  4113,  7940,    12,   452, 16131,    41,  8435,\n",
       "           1474,     4,    35,  6899,  2734,  2356,     8,   410,   760,   198,\n",
       "             13,  1661],\n",
       "         [  142,   137,     6,  2739,  1341,  4399,   567,  6192,     3,  1093,\n",
       "             23,  3110,  1767,    14,    38,  1122, 23402,  3486,     5,  1517,\n",
       "              4,    51,   152,    12,     6, 13560,  1571,  4924,    38,    38,\n",
       "            214,     6],\n",
       "         [  608,   116,    18,   363,   532,   241,    61,  1201,     3,     7,\n",
       "          10618,     8,     7,  4828,  3470,    13,     6,    15,   149,    80,\n",
       "            250,   136, 15601,     4,     4,     6,  4223,  6294,  4200,  1978,\n",
       "             40,  1561],\n",
       "         [  172,   243,  4266,    35,   286,  2716,  1398,  3009,     6,    42,\n",
       "             35,   422,   640,  1848,  1197,  8307, 24664,  5920,   816,  1467,\n",
       "            314,   173,    11,  2309,  4533,     4,    32,   581,  2471,  1701,\n",
       "             52,  1371],\n",
       "         [   39,  2186, 24331,    46,    20,     4,    54,  1024,    60,   183,\n",
       "              3,   366,    10,    89,     7,    36,     6,  7476,     7,   188,\n",
       "              9,   363,     4,     3,  2349,   812,     7,    69,   158,     8,\n",
       "           3703,   775],\n",
       "         [   20,    11,     6,     6,   785,   291,     7,   172,    40,    12,\n",
       "            100,    55,   911,   263,    52,  2931,  8073,    38,   545,  5431,\n",
       "           1803,     6,   669,     3,  1537,  4221,  3518,    33,    12,  4257,\n",
       "              4,    15],\n",
       "         [ 5919,    31,    35,    84,  4478,    19,    36,    33,   496,   547,\n",
       "            230,  1846,  1965,  2746,  2659,     9,     6,   536,    58,   234,\n",
       "              8,     4,   113,  4118,   860,   881,  4297,    17,     4,  2524,\n",
       "          14676,     4],\n",
       "         [ 1442,    15,  1576,     4,   510,     4,  8353,    11,   108,    74,\n",
       "             12,  3012,   120,    13,   632,  2423, 17218,   238,     4,     9,\n",
       "             36,  3259,     6, 19369,     6,     7,  2661,   999,   267,     8,\n",
       "             39,   367],\n",
       "         [ 2781,    10,   331, 35603,    21, 14039,     6,     4,     8,     4,\n",
       "             60,  1126,   442,  4113,    19,   495,    58,     4,   562,  2238,\n",
       "             51,  5715,  1337,     4,    28,    52,   510,  2752,   115,  5617,\n",
       "            315,   192],\n",
       "         [ 7462,   261,   454,    35,   286,  3129,    22,  1163,   391,   524,\n",
       "             13,   717,  1301, 11003,     4, 23460,     4,  4723,    11,  9073,\n",
       "           1580,  1611,     4, 32312,  2322,    10,   259,   869,    12,  1303,\n",
       "             19,    28],\n",
       "         [    4,   892,    14,   414,    11,   593,    24,   645,    17,    14,\n",
       "           9612,     8,    83,    57,    50,  2545,   178,  2684,    31,     6,\n",
       "            228,  1099, 37374,    26,   106,   792,  1309,   118,   396,     6,\n",
       "            237,    10],\n",
       "         [  161,   825,  1919,  1980,     4,    11,    23,     9,    34,  1221,\n",
       "              9,    55,     9,    55,  4282,   952,     9,   170,     8,   226,\n",
       "            209,     7,    57,  1757,  8946, 11395,     9,    56,   993,    63,\n",
       "              8,   265],\n",
       "         [    5,     5,     5,     5,  3016,    67,   461,   130,   239,   700,\n",
       "           1599,  4741,   936,   441,   761,   654,   984, 20962,   542,    16,\n",
       "             11,  1788,  1191,   911,    17,  5930,     4, 11434,    11,    16,\n",
       "             48,  1007],\n",
       "         [    2,     2,     2,     2,     5,     5,     5,     5,     5,     5,\n",
       "              5,     5,     5,     5,     5,     5,     5,     5,     5,     5,\n",
       "             37,  1231,  2370,  1090,  4694, 12973,    78, 33582,    31,    33,\n",
       "           2388,   224],\n",
       "         [    1,     1,     1,     1,     2,     2,     2,     2,     2,     2,\n",
       "              2,     2,     2,     2,     2,     2,     2,     2,     2,     2,\n",
       "              5,     5,     5,     5,     5,     5,     5,     5,     5,     5,\n",
       "              5,     5],\n",
       "         [    1,     1,     1,     1,     1,     1,     1,     1,     1,     1,\n",
       "              1,     1,     1,     1,     1,     1,     1,     1,     1,     1,\n",
       "              2,     2,     2,     2,     2,     2,     2,     2,     2,     2,\n",
       "              2,     2]]),\n",
       " tensor([[ 2060,   875,   176,  1758,     4,  2609,  2702,  2998,  1186,  2082,\n",
       "           1599,  1196,  6258,  4113,  7940,  2382,     4,  2684,   149,  8435,\n",
       "            327,  9856, 18725,     3,  8372, 13560,  4297,    92,   760,   198,\n",
       "            411,    47],\n",
       "         [  203,  5684,  1672, 35603,  6806,  5823,   567,  6192,    34,    79,\n",
       "           1311,   376,    12,    14,   881,    12, 42642,  3075,   112,   996,\n",
       "           8758,  1315,    46,     3,  3050,    13,  1654,   410,  4200,   343,\n",
       "             13,  1788],\n",
       "         [  159,     9,  1650,   732,     9,  3129,  2339,  1201,  1117,   524,\n",
       "             15,   529,  1672,  4828,  2818,  1122,    66,  3120,     7,  2238,\n",
       "             93,  4429,     4,  4118,  8073,   885,     8,   829,     8,     8,\n",
       "            214,    57],\n",
       "         [ 1052,   530,    74,     7,    10,   291,    84,  1649,    15,    14,\n",
       "           3455,   216,    57,   418,     8,    13,    74,   198,   204,  1467,\n",
       "            419,  1788,   162,     3,  5940,  3008,  1571,  2752,   158,  4257,\n",
       "              7,   231],\n",
       "         [  172,    14,  8970,  2968, 15507,  1197, 36520,   172,   131,  1221,\n",
       "             66,  6100,   106,   806,     3,   858,  4385,     2,     3,  1102,\n",
       "              2,   337,   113,     3,  3349, 10274,   144,   869,   267,  3283,\n",
       "           4820,     7],\n",
       "         [    2,   809,   747,     2,    11,    77,  5531,     2,    14,   700,\n",
       "           1934,  1846,  2249,     4,     3,  2931,   984,     1,     3,     2,\n",
       "              1,     2,     2,  6922,     2,  3799,   111,   638,   115,   800,\n",
       "          14676,   681],\n",
       "         [    1,   142,     2,     1,     4,   250,  2546,     1,   268,    40,\n",
       "           2469,     7,  2084,  4113,  2973,    11,     2,     1,     3,     1,\n",
       "              1,     1,     1,     3,     1,  1489,  5431,     2,   396,  2245,\n",
       "             19,   265],\n",
       "         [    1,   122,     1,     1,  3016,   314,     2,     1,   446,   341,\n",
       "           2662,   475,    10,  2746,  1215, 23460,     1,     1,   562,     1,\n",
       "              1,     1,     1,     3,     1,     2,     2,     1,     2,     2,\n",
       "            373,  1007],\n",
       "         [    1,    31,     1,     1,     2,     2,     1,     1,     2,  1048,\n",
       "            747,  1436,   892, 11003,    19,    11,     1,     1,     8,     1,\n",
       "              1,     1,     1,     2,     1,     1,     1,     1,     1,     1,\n",
       "           2950,     2],\n",
       "         [    1,  2607,     1,     1,     1,     1,     1,     1,     1,     7,\n",
       "             10,     2,   675,   285,    50,  1175,     1,     1,   542,     1,\n",
       "              1,     1,     1,     1,     1,     1,     1,     1,     1,     1,\n",
       "            546,     1],\n",
       "         [    1,     5,     1,     1,     1,     1,     1,     1,     1,   360,\n",
       "             59,     1,     2,     2,  4282,  3632,     1,     1,     2,     1,\n",
       "              1,     1,     1,     1,     1,     1,     1,     1,     1,     1,\n",
       "              2,     1],\n",
       "         [    1,     3,     1,     1,     1,     1,     1,     1,     1,     2,\n",
       "            365,     1,     1,     1,   761,     2,     1,     1,     1,     1,\n",
       "              1,     1,     1,     1,     1,     1,     1,     1,     1,     1,\n",
       "              1,     1],\n",
       "         [    1,     3,     1,     1,     1,     1,     1,     1,     1,     1,\n",
       "            693,     1,     1,     1,     2,     1,     1,     1,     1,     1,\n",
       "              1,     1,     1,     1,     1,     1,     1,     1,     1,     1,\n",
       "              1,     1],\n",
       "         [    1,     2,     1,     1,     1,     1,     1,     1,     1,     1,\n",
       "          18184,     1,     1,     1,     1,     1,     1,     1,     1,     1,\n",
       "              1,     1,     1,     1,     1,     1,     1,     1,     1,     1,\n",
       "              1,     1],\n",
       "         [    1,     1,     1,     1,     1,     1,     1,     1,     1,     1,\n",
       "           2554,     1,     1,     1,     1,     1,     1,     1,     1,     1,\n",
       "              1,     1,     1,     1,     1,     1,     1,     1,     1,     1,\n",
       "              1,     1],\n",
       "         [    1,     1,     1,     1,     1,     1,     1,     1,     1,     1,\n",
       "              2,     1,     1,     1,     1,     1,     1,     1,     1,     1,\n",
       "              1,     1,     1,     1,     1,     1,     1,     1,     1,     1,\n",
       "              1,     1]]))"
      ]
     },
     "execution_count": 14,
     "metadata": {},
     "output_type": "execute_result"
    }
   ],
   "source": [
    "# max_len X batch_size\n",
    "sample # article and title tensor pair"
   ]
  },
  {
   "cell_type": "code",
   "execution_count": 15,
   "metadata": {},
   "outputs": [
    {
     "data": {
      "text/plain": [
       "torch.Size([17, 32])"
      ]
     },
     "execution_count": 15,
     "metadata": {},
     "output_type": "execute_result"
    }
   ],
   "source": [
    "sample[0].size()"
   ]
  },
  {
   "cell_type": "code",
   "execution_count": 16,
   "metadata": {},
   "outputs": [
    {
     "name": "stdout",
     "output_type": "stream",
     "text": [
      "tensor([  81,  443,  142,  608,  172,   39,   20, 5919, 1442, 2781, 7462,    4,\n",
      "         161,    5,    2,    1,    1])\n",
      "tensor([2060,  203,  159, 1052,  172,    2,    1,    1,    1,    1,    1,    1,\n",
      "           1,    1,    1,    1])\n"
     ]
    }
   ],
   "source": [
    "# the following lines obtain the first article-tile pair in the batch sample\n",
    "# PAY ATTENTION to the dimensions\n",
    "print(sample[0].permute(-1,0)[0])\n",
    "print(sample[1].permute(-1,0)[0])"
   ]
  },
  {
   "cell_type": "code",
   "execution_count": 17,
   "metadata": {},
   "outputs": [
    {
     "name": "stdout",
     "output_type": "stream",
     "text": [
      "Source:  south korean stocks ended higher friday as strengthened blue chips bolstered the market . _eos_ <pad> <pad>\n",
      "Target:  seoul shares close slightly higher _eos_ <pad> <pad> <pad> <pad> <pad> <pad> <pad> <pad> <pad> <pad>\n"
     ]
    }
   ],
   "source": [
    "# let's print their original information\n",
    "print(\"Source: \", \" \".join([TEXT.vocab.itos[i] for i in sample[0].permute(-1,0)[0]]))\n",
    "print(\"Target: \", \" \".join([TEXT.vocab.itos[i] for i in sample[1].permute(-1,0)[0]]))"
   ]
  },
  {
   "cell_type": "markdown",
   "metadata": {},
   "source": [
    "The examples above are just meant to show you what all the text processors are really doing with our data. The tensors are in raw integers so we needed to convert them back to strings using the `TEXT.vocab.itos[]` function."
   ]
  },
  {
   "cell_type": "markdown",
   "metadata": {},
   "source": [
    "### Create ModelData\n",
    "In this tutorial we are also going to use a library known as `fastai`, which helps to handle our data well, and train/inspect how our models are performing. Fastai contains a lot of neat functions that are commonly used best practices and built on top of PyTorch, which simplifies coding and makes it easy to train models."
   ]
  },
  {
   "cell_type": "code",
   "execution_count": 18,
   "metadata": {},
   "outputs": [],
   "source": [
    "import torch.nn.functional as F\n",
    "import torch.nn as nn\n",
    "from fastai.text import *"
   ]
  },
  {
   "cell_type": "code",
   "execution_count": 19,
   "metadata": {},
   "outputs": [],
   "source": [
    "# ModelData puts together the dataset into one single object for ease of manipulation\n",
    "model_data = ModelData(SAMPLE_DATA_PATH, trn_dl=train_iter_tuple, val_dl=val_iter_tuple)"
   ]
  },
  {
   "cell_type": "markdown",
   "metadata": {},
   "source": [
    "We can actually view our tensor objects, similar to how we did above, but the great thing now is that we have access to both train and test tensors from one object. Let's sample a batch from train and a similar analysis like above on a `article-title` pair. "
   ]
  },
  {
   "cell_type": "code",
   "execution_count": 20,
   "metadata": {},
   "outputs": [
    {
     "data": {
      "text/plain": [
       "(2500, 393, 52380)"
      ]
     },
     "execution_count": 20,
     "metadata": {},
     "output_type": "execute_result"
    }
   ],
   "source": [
    "# number of batches in training & validation set and number of tokens in vocabulary\n",
    "len(model_data.trn_dl), len(model_data.val_dl), len(TEXT.vocab)"
   ]
  },
  {
   "cell_type": "code",
   "execution_count": 21,
   "metadata": {},
   "outputs": [
    {
     "data": {
      "text/plain": [
       "(torch.Size([40, 32]), torch.Size([25, 32]))"
      ]
     },
     "execution_count": 21,
     "metadata": {},
     "output_type": "execute_result"
    }
   ],
   "source": [
    "# shape of one batch in training set (sequence_length x batch_size)\n",
    "t, z = next(model_data.trn_dl.__iter__())\n",
    "t.size(), z.size()"
   ]
  },
  {
   "cell_type": "code",
   "execution_count": 22,
   "metadata": {},
   "outputs": [
    {
     "name": "stdout",
     "output_type": "stream",
     "text": [
      "source:\n",
      "washington -- as the nation 's first major party african american nominee for president , democrat barack obama would be testing the audacity of hope in his effort to wrest large blocks of the old confederacy from republicans . _eos_ \n",
      "\n",
      "corresponding tensor:\n",
      "[  391   183    20     4   268    13    51   184   132   221   146  3175    15    34     6  2544   604   274\n",
      "   102    52  2166     4 38114     9   942     8    29   740     7 14729   861  4575     9     4   230 20046\n",
      "    21  1234     5     2] \n",
      "\n",
      "target:\n",
      "obama hopes to rise in south _eos_ <pad> <pad> <pad> <pad> <pad> <pad> <pad> <pad> <pad> <pad> <pad> <pad> <pad> <pad> <pad> <pad> <pad> <pad> \n",
      "\n",
      "corresponding tensor:\n",
      "[274 609   7 430   8  81   2   1   1   1   1   1   1   1   1   1   1   1   1   1   1   1   1   1   1] \n",
      "\n"
     ]
    }
   ],
   "source": [
    "#lets look at an example pair\n",
    "sample_source = t.transpose(1,0)[0].data.cpu().numpy()\n",
    "sample_target = z.transpose(1,0)[0].data.cpu().numpy()\n",
    "\n",
    "print(\"source:\\n%s \\n\\ncorresponding tensor:\\n%s \\n\" %(' '.join([TEXT.vocab.itos[o] \n",
    "                                                                 for o in sample_source]), sample_source))\n",
    "print(\"target:\\n%s \\n\\ncorresponding tensor:\\n%s \\n\" %(' '.join([TEXT.vocab.itos[o] \n",
    "                                                                 for o in sample_target]), sample_target))"
   ]
  },
  {
   "cell_type": "markdown",
   "metadata": {},
   "source": [
    "Okay! Enough messing around. Let's get to what you came here for. The models!"
   ]
  },
  {
   "cell_type": "markdown",
   "metadata": {},
   "source": [
    "## 3. Model\n",
    "We are using a simple encoder-decoder architecture based on RNN. We are also using an attention layer based on the work [Luong et al., 2015](https://arxiv.org/pdf/1508.04025.pdf). Below are the specific things we will be implementing for our model:\n",
    "\n",
    "* model architecture supports LSTM & GRU (biLSTM-to-uniLSTM or biGRU-to-uniGRU)\n",
    "* implements attention mechanism ([Bahdanau et al.](https://arxiv.org/abs/1409.0473) & [Luong et al.(global dot)](https://arxiv.org/abs/1508.04025))\n",
    "* implements [scheduled sampling (teacher forcing)](https://arxiv.org/abs/1506.03099)\n",
    "* implements [tied embeddings](https://arxiv.org/pdf/1608.05859.pdf)\n",
    "* initializes encoder-decoder with pretrained vectors (glove.6B.200d)\n",
    "* implements attention plots"
   ]
  },
  {
   "cell_type": "code",
   "execution_count": 23,
   "metadata": {},
   "outputs": [],
   "source": [
    "class Seq2SeqRNN(nn.Module):    \n",
    "    \n",
    "    def __init__(self, rnn_type, input_size, embz_size, hidden_size, batch_size,output_size,max_tgt_len,\n",
    "                 attention_type, tied_weight_type, pre_trained_vector, pre_trained_vector_type, padding_idx,\n",
    "                 num_layers=1, encoder_drop=(0.0,0.0), decoder_drop=(0.0,0.0), \n",
    "                 bidirectional=True, bias=False, teacher_forcing=True):\n",
    "        \n",
    "        super().__init__()\n",
    "        \n",
    "        rnn_type, attention_type, tied_weight_type = rnn_type.upper(), attention_type.title(), tied_weight_type.lower()\n",
    "        \n",
    "        if rnn_type in ['LSTM', 'GRU']: self.rnn_type = rnn_type\n",
    "        else: raise ValueError(\"\"\"An invalid option for '--rnn_type' was supplied,\n",
    "                                    options are ['LSTM', 'GRU']\"\"\")\n",
    "            \n",
    "        self.attention_type = attention_type\n",
    "       \n",
    "        if tied_weight_type in ['three_way', 'two_way']: self.tied_weight_type = tied_weight_type\n",
    "        else: raise ValueError(\"\"\"An invalid option for '--tied_weight_type' was supplied,\n",
    "                                    options are ['three_way', 'two_way']\"\"\")\n",
    "    \n",
    "                    \n",
    "        # initialize model parameters            \n",
    "        self.output_size, self.embz_size, self.hidden_size = output_size, embz_size, hidden_size//2\n",
    "        self.num_layers, self.input_size, self.max_tgt_len, self.pre_trained_vector = num_layers, input_size, max_tgt_len, pre_trained_vector\n",
    "        self.bidirectional,self.teacher_forcing, self.pre_trained_vector_type = bidirectional, teacher_forcing, pre_trained_vector_type\n",
    "        self.encoder_drop, self.decoder_drop, self.padding_idx = encoder_drop, decoder_drop, padding_idx\n",
    "        \n",
    "        if self.teacher_forcing: self.force_prob = 1.0\n",
    "        \n",
    "        # set bidirectional\n",
    "        if self.bidirectional: self.num_directions = 2\n",
    "        else: self.num_directions = 1\n",
    "            \n",
    "        # Encoder\n",
    "        self.encoder_dropout = nn.Dropout(self.encoder_drop[0])\n",
    "        self.encoder_embedding_layer = nn.Embedding(self.input_size, self.embz_size, padding_idx=self.padding_idx)\n",
    "        if self.pre_trained_vector: self.encoder_embedding_layer.weight.data.copy_(self.pre_trained_vector.weight.data)\n",
    "            \n",
    "        self.encoder_rnn = getattr(nn, self.rnn_type)(\n",
    "                           input_size=self.embz_size,\n",
    "                           hidden_size=self.hidden_size,\n",
    "                           num_layers=self.num_layers,\n",
    "                           dropout=self.encoder_drop[1], \n",
    "                           bidirectional=self.bidirectional)\n",
    "        self.encoder_vector_layer = nn.Linear(self.hidden_size*self.num_directions,self.embz_size, bias=bias)\n",
    "        \n",
    "       # Decoder\n",
    "        self.decoder_dropout = nn.Dropout(self.decoder_drop[0])\n",
    "        self.decoder_embedding_layer = nn.Embedding(self.input_size, self.embz_size, padding_idx=self.padding_idx)\n",
    "        self.decoder_rnn = getattr(nn, self.rnn_type)(\n",
    "                           input_size=self.embz_size,\n",
    "                           hidden_size=self.hidden_size*self.num_directions,\n",
    "                           num_layers=self.num_layers,\n",
    "                           dropout=self.decoder_drop[1]) \n",
    "        self.decoder_output_layer = nn.Linear(self.hidden_size*self.num_directions, self.embz_size, bias=bias)\n",
    "        self.output_layer = nn.Linear(self.embz_size, self.output_size, bias=bias)\n",
    "        \n",
    "        #set tied weights: three way tied weights vs two way tied weights\n",
    "        if self.tied_weight_type == 'three_way':\n",
    "            self.decoder_embedding_layer.weight  = self.encoder_embedding_layer.weight\n",
    "            self.output_layer.weight = self.decoder_embedding_layer.weight  \n",
    "        else:\n",
    "            if self.pre_trained_vector: self.decoder_embedding_layer.weight.data.copy_(self.pre_trained_vector.weight.data)\n",
    "            self.output_layer.weight = self.decoder_embedding_layer.weight  \n",
    "            \n",
    "        # Attention\n",
    "        self.encoder_output_layer = nn.Linear(self.hidden_size*self.num_directions, self.embz_size, bias=bias)\n",
    "        self.att_vector_layer = nn.Linear(self.embz_size+self.embz_size, self.embz_size,bias=bias)\n",
    "        if self.attention_type == 'Bahdanau':\n",
    "            self.decoder_hidden_layer = nn.Linear(self.hidden_size*self.num_directions, self.embz_size, bias=bias)\n",
    "            self.att_score = nn.Linear(self.embz_size,1,bias=bias)\n",
    "    \n",
    "    def init_hidden(self, batch_size):\n",
    "        if self.rnn_type == 'LSTM':\n",
    "            return (V(torch.zeros(self.num_layers*self.num_directions, batch_size, self.hidden_size)),\n",
    "                    V(torch.zeros(self.num_layers*self.num_directions, batch_size, self.hidden_size)))\n",
    "        else:\n",
    "            return V(torch.zeros(self.num_layers*self.num_directions, batch_size, self.hidden_size))\n",
    "   \n",
    "    def _cat_directions(self, hidden):\n",
    "        def _cat(h):\n",
    "            return torch.cat([h[0:h.size(0):2], h[1:h.size(0):2]], 2)\n",
    "            \n",
    "        if isinstance(hidden, tuple):\n",
    "            # LSTM hidden contains a tuple (hidden state, cell state)\n",
    "            hidden = tuple([_cat(h) for h in hidden])\n",
    "        else:\n",
    "            # GRU hidden\n",
    "            hidden = _cat(hidden)\n",
    "        return hidden    \n",
    "       \n",
    "    def luong_attention(self, encoder_output, decoder_output):\n",
    "        encoder_output = self.encoder_output_layer(encoder_output) \n",
    "        encoder_output = encoder_output.transpose(0,1)\n",
    "        decoder_output = decoder_output.transpose(0,1)\n",
    "        att_score = torch.bmm(encoder_output, decoder_output.transpose(-1,1))\n",
    "        att_weight = F.softmax(att_score, dim=1)\n",
    "        context_vector = torch.bmm(att_weight.transpose(-1, 1), encoder_output).squeeze(1)\n",
    "        att_vector = torch.cat((context_vector, decoder_output.squeeze(1)), dim=1)\n",
    "        att_vector = self.att_vector_layer(att_vector)\n",
    "        att_vector = torch.tanh(att_vector)\n",
    "        return att_weight.squeeze(-1), att_vector\n",
    "        \n",
    "    def decoder_forward(self, batch_size, encoder_output, decoder_hidden, y=None):\n",
    "        decoder_input = V(torch.zeros(batch_size).long())  \n",
    "        output_seq_stack, att_stack = [], []\n",
    "        \n",
    "        for i in range(self.max_tgt_len):\n",
    "            decoder_input = self.decoder_dropout(self.decoder_embedding_layer(decoder_input))\n",
    "            if self.attention_type == 'Bahdanau':\n",
    "                if isinstance(decoder_hidden, tuple):\n",
    "                    prev_hidden = self.decoder_hidden_layer(decoder_hidden[0][-1]).unsqueeze(0)\n",
    "                else:\n",
    "                    prev_hidden = self.decoder_hidden_layer(decoder_hidden[-1]).unsqueeze(0) \n",
    "                att, decoder_input = self.bahdanau_attention(encoder_output, prev_hidden, decoder_input)\n",
    "                decoder_output, decoder_hidden = self.decoder_rnn(decoder_input.unsqueeze(0), decoder_hidden)\n",
    "                decoder_output = self.decoder_output_layer(decoder_output.squeeze(0)) \n",
    "            else:\n",
    "                decoder_output, decoder_hidden = self.decoder_rnn(decoder_input.unsqueeze(0), decoder_hidden)\n",
    "                decoder_output = self.decoder_output_layer(decoder_output) \n",
    "                att, decoder_output = self.luong_attention(encoder_output, decoder_output)\n",
    "            att_stack.append(att)\n",
    "            output = self.output_layer(decoder_output)\n",
    "            output_seq_stack.append(output)\n",
    "            decoder_input = V(output.data.max(1)[1])\n",
    "            if (decoder_input==1).all(): break \n",
    "            if self.teacher_forcing:    \n",
    "                samp_prob = round(random.random(),1)\n",
    "                if (y is not None) and (samp_prob < self.force_prob):\n",
    "                    if i >= len(y): break\n",
    "                    decoder_input = y[i] \n",
    "                \n",
    "        return torch.stack(output_seq_stack), torch.stack(att_stack)\n",
    "        \n",
    "    def forward(self, seq, y=None):\n",
    "        # Encoder forward function\n",
    "        # Basically where the input enters in the architecture\n",
    "        batch_size = seq[0].size(0)\n",
    "        encoder_hidden = self.init_hidden(batch_size)\n",
    "        encoder_input = self.encoder_dropout(self.encoder_embedding_layer(seq))\n",
    "        encoder_output, encoder_hidden = self.encoder_rnn(encoder_input, encoder_hidden) \n",
    "        if self.bidirectional:\n",
    "            encoder_hidden = self._cat_directions(encoder_hidden)\n",
    "        output = self.decoder_forward(batch_size, encoder_output, encoder_hidden, y=y)\n",
    "        if isinstance(encoder_hidden, tuple):\n",
    "            encoder_vector = self.encoder_vector_layer(encoder_hidden[0][-1])\n",
    "        else:\n",
    "            encoder_vector = self.encoder_vector_layer(encoder_hidden[-1])\n",
    "        output = output + (encoder_vector,)  \n",
    "        return output"
   ]
  },
  {
   "cell_type": "markdown",
   "metadata": {},
   "source": [
    "### Pretest the Seq2Seq model ?????"
   ]
  },
  {
   "cell_type": "code",
   "execution_count": 24,
   "metadata": {},
   "outputs": [],
   "source": [
    "# tr_sample = next(model_data.trn_dl.__iter__())\n",
    "# TODO: need to find out how to get those inputs for a given batch"
   ]
  },
  {
   "cell_type": "markdown",
   "metadata": {},
   "source": [
    "We would like to define what the maximum size of our target summary is going to be. It's a constraint that's necessary to train this model. We can calculate the maximum target summary size as follows:"
   ]
  },
  {
   "cell_type": "code",
   "execution_count": 25,
   "metadata": {},
   "outputs": [
    {
     "data": {
      "text/plain": [
       "19"
      ]
     },
     "execution_count": 25,
     "metadata": {},
     "output_type": "execute_result"
    }
   ],
   "source": [
    "its = [next(model_data.trn_dl.__iter__())[1] for i in range(10)]\n",
    "max_tgt_len = int(np.percentile([its[o].size()[0] for o in range(len(its))], 99))\n",
    "max_tgt_len"
   ]
  },
  {
   "cell_type": "code",
   "execution_count": 26,
   "metadata": {},
   "outputs": [],
   "source": [
    "# function to help generate our embeddings and store them as well\n",
    "def save_pickle(path, filename, file):\n",
    "    \"\"\"Function to save file as pickle\"\"\"\n",
    "    with open(f'{path}/{filename}', 'wb') as f:\n",
    "        pickle.dump(file, f)\n",
    "\n",
    "def norm_pre_trained_embeddings(vecs, itos, em_sz, padding_idx):\n",
    "    \"\"\"Function to load and normalize pretrained vectors\"\"\"\n",
    "    emb = nn.Embedding(len(itos), em_sz, padding_idx=padding_idx)\n",
    "    wgts = emb.weight.data\n",
    "    for i,w in enumerate(itos):\n",
    "        try: \n",
    "            wgts[i] = torch.from_numpy(vecs[w]-vec_mean)\n",
    "            wgts[i] = torch.from_numpy(vecs[w]/vec_std)\n",
    "        except: pass \n",
    "    emb.weight.requires_grad = False    \n",
    "    return emb\n",
    "\n",
    "def embedding_param(path, data_field, pre_trained_vector_type, embz_size=128, save_vocab=False, itos='itos', stoi='stoi'):\n",
    "    \"\"\"Returns embedding parameters\"\"\"\n",
    "    pre_trained=None\n",
    "    padding_idx = data_field.vocab.stoi['<pad>']\n",
    "    index_to_string, string_to_index = data_field.vocab.itos, data_field.vocab.stoi\n",
    "    \n",
    "    # save vocabulary\n",
    "    if save_vocab:\n",
    "        vocab_path = os.path.join(path, \"vocab\")\n",
    "        os.makedirs(vocab_path, exist_ok=True)\n",
    "        save_pickle(vocab_path, f'{itos}.pk', index_to_string) \n",
    "        save_pickle(vocab_path, f'{stoi}.pk', string_to_index) \n",
    "    \n",
    "    # generate pretrained vectors\n",
    "    if pre_trained_vector_type:\n",
    "        vec_mean, vec_std = data_field.vocab.vectors.numpy().mean(), data_field.vocab.vectors.numpy().std()\n",
    "        print('pre_trained_vector_mean = %s, pre_trained_vector_std = %s'%(vec_mean, vec_std))\n",
    "        vector_weight_matrix = data_field.vocab.vectors\n",
    "        embz_size = vector_weight_matrix.size(1)\n",
    "        pre_trained = norm_pre_trained_embeddings(vector_weight_matrix, index_to_string, embz_size, padding_idx)\n",
    "        print('Normalizing.... \\npre_trained_vector_mean = %s, pre_trained_vector_std = %s' %(pre_trained.weight.data.numpy().mean(), pre_trained.weight.data.numpy().std()))\n",
    "    return pre_trained, embz_size, padding_idx, index_to_string"
   ]
  },
  {
   "cell_type": "code",
   "execution_count": 27,
   "metadata": {},
   "outputs": [
    {
     "name": "stdout",
     "output_type": "stream",
     "text": [
      "rev = 1\n",
      "pre_trained_vector_mean = 0.0020214648, pre_trained_vector_std = 0.43631938\n",
      "Normalizing.... \n",
      "pre_trained_vector_mean = 6.3935506e-05, pre_trained_vector_std = 1.0000203\n"
     ]
    }
   ],
   "source": [
    "rev=0\n",
    "rev += 1\n",
    "print(\"rev = %s\" %rev)\n",
    "pre_trained_vector,  embz_size, padding_idx, index_to_string = embedding_param(SAMPLE_DATA_PATH, \n",
    "                                                                               TEXT, \n",
    "                                                                               pre_trained_vector_type, \n",
    "                                                                               save_vocab=True)"
   ]
  },
  {
   "cell_type": "markdown",
   "metadata": {},
   "source": [
    "Let's inspect the information we just generated with the function above before we proceed."
   ]
  },
  {
   "cell_type": "code",
   "execution_count": 28,
   "metadata": {},
   "outputs": [
    {
     "name": "stdout",
     "output_type": "stream",
     "text": [
      "Embedding Matrix size:  Embedding(52380, 200, padding_idx=1)\n",
      "Embedding Dimension size:  200\n",
      "Padding Id:  1\n",
      "Vocab size:  52380\n"
     ]
    }
   ],
   "source": [
    "# the Embedding matrix\n",
    "print(\"Embedding Matrix size: \", pre_trained_vector)\n",
    "print(\"Embedding Dimension size: \", embz_size)\n",
    "print(\"Padding Id: \", padding_idx)\n",
    "print(\"Vocab size: \", len(index_to_string))"
   ]
  },
  {
   "cell_type": "code",
   "execution_count": 29,
   "metadata": {},
   "outputs": [],
   "source": [
    "# parameters\n",
    "input_size = len(TEXT.vocab)\n",
    "hidden_size = 400\n",
    "output_size =  len(TEXT.vocab)\n",
    "rnn_type = 'gru'\n",
    "tied_weight_type ='three_way'\n",
    "max_tgt_len = max_tgt_len"
   ]
  },
  {
   "cell_type": "markdown",
   "metadata": {},
   "source": [
    "## Training\n",
    "Now that we have defined our parameters and the other embedding information, let's start to look at the code for training our seq2seq model.\n",
    "- Uses teacher forcing which is the process of training an RNN which uses the output from the prior time steps as input to the current time step. Teacher forcing helps to train the RNNs more efficiently and quickly."
   ]
  },
  {
   "cell_type": "code",
   "execution_count": 30,
   "metadata": {},
   "outputs": [],
   "source": [
    "from fastai.nlp import *\n",
    "from fastai.model import Stepper\n",
    "from fastai.sgdr import Callback, DecayScheduler\n",
    "from fastai.learner import Learner"
   ]
  },
  {
   "cell_type": "markdown",
   "metadata": {},
   "source": [
    "#### Helper to train the seq2seq model\n",
    "This class below helps with training the models."
   ]
  },
  {
   "cell_type": "code",
   "execution_count": 31,
   "metadata": {},
   "outputs": [],
   "source": [
    "class Seq2SeqStepper(Stepper):\n",
    "    def step(self, xs, y, epoch):\n",
    "        output = self.m(*xs, y)\n",
    "        xtra = []\n",
    "        if isinstance(output,tuple): output,*xtra = output\n",
    "        self.opt.zero_grad()\n",
    "        loss = raw_loss = self.crit(output, y)\n",
    "        if self.reg_fn: loss = self.reg_fn(output, xtra, raw_loss)\n",
    "        loss.backward()\n",
    "        if self.clip:   # Gradient clipping\n",
    "            nn.utils.clip_grad_norm(trainable_params_(self.m), self.clip)\n",
    "        self.opt.step()\n",
    "        return raw_loss.data\n",
    "    \n",
    "def seq2seq_loss(input, target):\n",
    "    sl,bs = target.size()\n",
    "    sl_in,bs_in,nc = input.size()\n",
    "    if sl>sl_in: input = F.pad(input, (0,0,0,0,0,sl-sl_in))\n",
    "    input = input[:sl]\n",
    "    return F.cross_entropy(input.view(-1,nc), target.view(-1))#, ignore_index=1)"
   ]
  },
  {
   "cell_type": "markdown",
   "metadata": {},
   "source": [
    "#### Setting Checkpoints\n",
    "The class below helps with setting storing checkpoints for best models obtained."
   ]
  },
  {
   "cell_type": "code",
   "execution_count": 32,
   "metadata": {},
   "outputs": [],
   "source": [
    "class BestModelCheckPoint(Callback):\n",
    "    def __init__(self, learner, path, model_name, lr):\n",
    "        super().__init__()\n",
    "        self.learner = learner\n",
    "        self.model_name = model_name\n",
    "        self.learning_rate = lr\n",
    "        self.model_log = {}\n",
    "        self.model_path = self.learner.models_path\n",
    "        os.makedirs(self.model_path, exist_ok=True)\n",
    "\n",
    "    def on_train_begin(self): \n",
    "        self.first_epoch = True\n",
    "        self.epoch = 0\n",
    "        self.best_loss = 0.\n",
    "\n",
    "    def on_batch_begin(self): pass\n",
    "    def on_phase_begin(self): pass\n",
    "    def on_epoch_end(self, metrics): \n",
    "        self.epoch += 1\n",
    "        self.val_loss = metrics[0]\n",
    "        if self.first_epoch:\n",
    "            self.best_loss = self.val_loss\n",
    "            self.first_epoch = False\n",
    "        elif self.val_loss < self.best_loss:\n",
    "            self.best_loss = self.val_loss\n",
    "            self.learner.save(self.model_name)\n",
    "            self.model_log['training_loss'] = [str(self.train_losses)]\n",
    "            self.model_log['validation_loss'] = [str(self.val_loss)]\n",
    "            self.model_log['epoch_num'] = [str(self.epoch)]\n",
    "            self.model_log['learning_rate'] = [str(self.learning_rate)]\n",
    "            self.model_log['model_info'] = [w for s in [str(self.learner.model)] for w in s.split('\\n')]\n",
    "            self.model_log['model_info'].append(\"(attention_type): %s\" %self.learner.model.attention_type)\n",
    "            self.model_log['model_info'].append(\"(weight_tie): %s\" %self.learner.model.tied_weight_type)\n",
    "            self.model_log['model_info'].append(\"(pre_trained_vector_type): %s\" %self.learner.model.pre_trained_vector_type)\n",
    "            self.model_log['model_info'].append(\"(teacher_forcing): %s\" %self.learner.model.teacher_forcing)\n",
    "            if self.learner.model.teacher_forcing: self.model_log['model_info'].append(\"(teacher_forcing_prob): %s\" %self.learner.model.force_prob)\n",
    "            with open(f'{self.model_path}/{self.model_name}_model_log.json', 'w') as d: json.dump(self.model_log, d)\n",
    "        else: pass        \n",
    "    def on_phase_end(self): pass\n",
    "    def on_batch_end(self, loss):\n",
    "        self.train_losses = loss\n",
    "    def on_train_end(self): \n",
    "            self.learner.save(f'{self.model_name}_train_end')\n",
    "            self.model_log['training_loss'] = [str(self.train_losses)]\n",
    "            self.model_log['validation_loss'] = [str(self.val_loss)]\n",
    "            self.model_log['epoch_num'] = [str(self.epoch)]\n",
    "            self.model_log['learning_rate'] = [str(self.learning_rate)]\n",
    "            self.model_log['model_info'] = [w for s in [str(self.learner.model)] for w in s.split('\\n')]\n",
    "            self.model_log['model_info'].append(\"(attention_type): %s\" %self.learner.model.attention_type)\n",
    "            self.model_log['model_info'].append(\"(weight_tie): %s\" %self.learner.model.tied_weight_type)\n",
    "            self.model_log['model_info'].append(\"(pre_trained_vector_type): %s\" %self.learner.model.pre_trained_vector_type)\n",
    "            self.model_log['model_info'].append(\"(teacher_forcing): %s\" %self.learner.model.teacher_forcing)\n",
    "            if self.learner.model.teacher_forcing: self.model_log['model_info'].append(\"(teacher_forcing_prob): %s\" %self.learner.model.force_prob)\n",
    "            with open(f'{self.model_path}/{self.model_name}_train_end_model_log.json', 'w') as d: json.dump(self.model_log, d)"
   ]
  },
  {
   "cell_type": "code",
   "execution_count": 33,
   "metadata": {},
   "outputs": [],
   "source": [
    "class TeacherForcingSched(Callback):\n",
    "    def __init__(self, learner, scheduler):\n",
    "        super().__init__()\n",
    "        self.learner = learner\n",
    "        self.scheduler = scheduler\n",
    "        \n",
    "    def on_train_begin(self): \n",
    "        self.learner.model.force_prob = round(self.scheduler.next_val(), 1)\n",
    "        \n",
    "    def on_batch_begin(self): pass\n",
    "    def on_phase_begin(self): pass\n",
    "    def on_epoch_end(self, metrics): \n",
    "        self.learner.model.force_prob = round(self.scheduler.next_val(), 1)\n",
    "        \n",
    "    def on_phase_end(self): pass\n",
    "    def on_batch_end(self, loss):pass\n",
    "    def on_train_end(self): pass"
   ]
  },
  {
   "cell_type": "markdown",
   "metadata": {},
   "source": [
    "### Train..."
   ]
  },
  {
   "cell_type": "code",
   "execution_count": 34,
   "metadata": {},
   "outputs": [
    {
     "name": "stdout",
     "output_type": "stream",
     "text": [
      "====================================================================================================\n",
      "Model log:\n",
      "Seq2SeqRNN(\n",
      "  (pre_trained_vector): Embedding(52380, 200, padding_idx=1)\n",
      "  (encoder_dropout): Dropout(p=0.0)\n",
      "  (encoder_embedding_layer): Embedding(52380, 200, padding_idx=1)\n",
      "  (encoder_rnn): GRU(200, 200, bidirectional=True)\n",
      "  (encoder_vector_layer): Linear(in_features=400, out_features=200, bias=False)\n",
      "  (decoder_dropout): Dropout(p=0.0)\n",
      "  (decoder_embedding_layer): Embedding(52380, 200, padding_idx=1)\n",
      "  (decoder_rnn): GRU(200, 400)\n",
      "  (decoder_output_layer): Linear(in_features=400, out_features=200, bias=False)\n",
      "  (output_layer): Linear(in_features=200, out_features=52380, bias=False)\n",
      "  (encoder_output_layer): Linear(in_features=400, out_features=200, bias=False)\n",
      "  (att_vector_layer): Linear(in_features=400, out_features=200, bias=False)\n",
      ") \n",
      "\n",
      "- attention_type = Luong \n",
      "\n",
      "- weight_tie = three_way \n",
      "\n",
      "- teacher_forcing = True \n",
      " \n",
      "- pre_trained_embedding = glove.6B.200d \n",
      "\n",
      "====================================================================================================\n",
      "\n"
     ]
    }
   ],
   "source": [
    "attention_type='luong'\n",
    "model_luong = Seq2SeqRNN(rnn_type, input_size, embz_size, hidden_size, batch_size, output_size, max_tgt_len,\n",
    "               attention_type, tied_weight_type, pre_trained_vector, pre_trained_vector_type, padding_idx)\n",
    "\n",
    "print('='*100)\n",
    "print('Model log:')\n",
    "print(model_luong, '\\n')\n",
    "print('- attention_type = {} \\n'.format(model_luong.attention_type))\n",
    "print('- weight_tie = {} \\n'.format(model_luong.tied_weight_type))\n",
    "print('- teacher_forcing = {} \\n '.format(model_luong.teacher_forcing)) \n",
    "print('- pre_trained_embedding = {} \\n'.format(model_luong.pre_trained_vector_type)) \n",
    "print('='*100 + '\\n')\n",
    "\n",
    "if USE_GPU:\n",
    "    model_luong.cuda()\n",
    "opt_fn = partial(optim.Adam, betas=(0.8, 0.99))\n",
    "learn_luong = RNN_Learner(model_data, SingleModel(model_luong), opt_fn=opt_fn)\n",
    "learn_luong.crit = seq2seq_loss"
   ]
  },
  {
   "cell_type": "code",
   "execution_count": 35,
   "metadata": {},
   "outputs": [
    {
     "name": "stdout",
     "output_type": "stream",
     "text": [
      "  0%|          | 0/2500 [00:00<?, ?it/s]"
     ]
    },
    {
     "name": "stderr",
     "output_type": "stream",
     "text": [
      "Widget Javascript not detected.  It may not be installed properly. Did you enable the widgetsnbextension? If not, then run \"jupyter nbextension enable --py --sys-prefix widgetsnbextension\"\n"
     ]
    },
    {
     "name": "stdout",
     "output_type": "stream",
     "text": [
      " 64%|██████▎   | 1592/2500 [02:54<00:52, 17.29it/s, loss=31.3]"
     ]
    }
   ],
   "source": [
    "learn_luong.lr_find()"
   ]
  },
  {
   "cell_type": "code",
   "execution_count": 36,
   "metadata": {},
   "outputs": [],
   "source": [
    "import warnings\n",
    "warnings.filterwarnings('ignore')"
   ]
  },
  {
   "cell_type": "code",
   "execution_count": 38,
   "metadata": {},
   "outputs": [
    {
     "name": "stdout",
     "output_type": "stream",
     "text": [
      "  0%|          | 0/2500 [00:00<?, ?it/s]"
     ]
    },
    {
     "name": "stderr",
     "output_type": "stream",
     "text": [
      "Widget Javascript not detected.  It may not be installed properly. Did you enable the widgetsnbextension? If not, then run \"jupyter nbextension enable --py --sys-prefix widgetsnbextension\"\n"
     ]
    },
    {
     "name": "stdout",
     "output_type": "stream",
     "text": [
      "epoch      trn_loss   val_loss   \n",
      "    0      4.219351   5.568523  \n",
      "    1      4.781394   5.82467   \n",
      "    2      4.675389   6.072489  \n",
      "    3      4.512148   6.415779  \n",
      "    4      4.377008   6.560615  \n",
      "    5      4.879759   5.836186  \n",
      "    6      4.401068   5.931025  \n",
      "    7      4.30169    6.262429  \n",
      "    8      4.035474   6.127071  \n",
      "    9      4.191438   5.933668  \n",
      "    10     3.938181   5.635929  \n",
      "    11     3.913155   5.593791  \n",
      "    12     3.3846     5.310855  \n",
      "    13     3.133794   5.360183  \n",
      "    14     3.048984   5.336869  \n"
     ]
    },
    {
     "data": {
      "text/plain": [
       "[5.3368690702399455]"
      ]
     },
     "execution_count": 38,
     "metadata": {},
     "output_type": "execute_result"
    }
   ],
   "source": [
    "# Luong Attention model\n",
    "lr=1e-3\n",
    "model_name = f'{model_luong.rnn_type}_{model_luong.attention_type}_rev_{rev}'.lower()\n",
    "cycle_len=15\n",
    "best_model = BestModelCheckPoint(learn_luong, model_data.path, model_name, lr)\n",
    "tb_logger=0\n",
    "sched = DecayScheduler(DecayType.LINEAR, cycle_len, 0.5, 0.1)\n",
    "teach_forcer = TeacherForcingSched(learn_luong, sched)\n",
    "learn_luong.fit(lr, 1, cycle_len=cycle_len, use_clr=(20,10), stepper=Seq2SeqStepper, \\\n",
    "          callbacks=[ teach_forcer, best_model])"
   ]
  },
  {
   "cell_type": "markdown",
   "metadata": {},
   "source": [
    "## Output Results\n",
    "Now we will inspect what the model has learned and how good it is performing the text summarization. Keep in mind that we didn't use the entire dataset and we only trained for a few epochs, so results may not be optimal. You can try to improve the code in various ways to get better results."
   ]
  },
  {
   "cell_type": "code",
   "execution_count": 39,
   "metadata": {},
   "outputs": [],
   "source": [
    "import matplotlib.ticker as ticker\n",
    "\n",
    "# function for plotting the attention weights\n",
    "def plot_attention(attention, sentence, predicted_sentence):\n",
    "    fig = plt.figure(figsize=(10,10))\n",
    "    ax = fig.add_subplot(1, 1, 1)\n",
    "    ax.matshow(attention, cmap='viridis')\n",
    "    fontdict = {'fontsize': 14}\n",
    "    ax.set_xticklabels([''] + sentence, fontdict=fontdict, rotation=90)\n",
    "    ax.set_yticklabels([''] + predicted_sentence, fontdict=fontdict)\n",
    "    ax.xaxis.set_major_locator(ticker.MultipleLocator(1))\n",
    "    ax.yaxis.set_major_locator(ticker.MultipleLocator(1))\n",
    "    plt.show()\n",
    "    \n",
    "    \n",
    "def generate(x, y, m):\n",
    "    probs = m.model(V(x))\n",
    "    preds, attention, encoder_embedding = to_np(probs[0].max(2)[1]), to_np(probs[1].squeeze(1)), to_np(probs[2])\n",
    "    sentence = ' '.join([index_to_string[o] for o in x[:,0].data.cpu().numpy() if o != 1])\n",
    "    result = ' '.join([index_to_string[o] for o in preds[:,0] if o!=1])\n",
    "    orig = ' '.join([index_to_string[o] for o in y[:,0].data.cpu().numpy() if o != 1])\n",
    "    print('Input: {}'.format(sentence), '\\n')\n",
    "    print('Original summary: {}'.format(orig), '\\n')\n",
    "    print('Predicted summary: {}'.format(result))\n",
    "    \n",
    "    # only print sentence (x) and result (predictions)\n",
    "    attention_plot = attention[:len(result.split(' ')), :len(sentence.split(' '))]\n",
    "    plot_attention(attention_plot, sentence.split(' '), result.split(' '))\n",
    "    return preds, attention, encoder_embedding"
   ]
  },
  {
   "cell_type": "code",
   "execution_count": 40,
   "metadata": {},
   "outputs": [],
   "source": [
    "# load the model\n",
    "attention_type='luong'\n",
    "model_luong = Seq2SeqRNN(rnn_type, input_size, embz_size, hidden_size, batch_size, output_size, max_tgt_len,\n",
    "               attention_type, tied_weight_type, pre_trained_vector, pre_trained_vector_type, padding_idx)\n",
    "if USE_GPU:\n",
    "    model_luong.cuda()\n",
    "learn_luong = RNN_Learner(model_data, SingleModel(model_luong))\n",
    "learn_luong.load('gru_luong_rev_1_train_end')"
   ]
  },
  {
   "cell_type": "code",
   "execution_count": 42,
   "metadata": {},
   "outputs": [
    {
     "name": "stdout",
     "output_type": "stream",
     "text": [
      "0\n",
      "Input: the european commission wants bskyb and the english premier league to offer free - to - air broadcasters `` an interesting package of live games '' over the next three years to avoid antitrust charges over one of the richest contracts in european sports , a source close to the negotiations said tuesday . _eos_ \n",
      "\n",
      "Original summary: eu offers settlement to premier league over bskyb tv rights deal _eos_ \n",
      "\n",
      "Predicted summary: eu offers premier premier offer to to for air _eos_ _eos_\n"
     ]
    },
    {
     "data": {
      "image/png": "[encoded data removed]",
      "text/plain": [
       "<Figure size 720x720 with 1 Axes>"
      ]
     },
     "metadata": {},
     "output_type": "display_data"
    },
    {
     "name": "stdout",
     "output_type": "stream",
     "text": [
      "1\n",
      "Input: the # # # # olympics to be held in beijing will help boost sports undertakings in china and provide wonderful opportunities for global sportswear and sport gear businesses , said a senior chinese sports official at the opening ceremony of the sports round - table meeting of the ninth global forum here . _eos_ \n",
      "\n",
      "Original summary: sports round - table meeting of fortune global forum opens in beijing _eos_ \n",
      "\n",
      "Predicted summary: sports sports table meeting to meeting global forum forum _eos_\n"
     ]
    },
    {
     "data": {
      "image/png": "[encoded data removed]",
      "text/plain": [
       "<Figure size 720x720 with 1 Axes>"
      ]
     },
     "metadata": {},
     "output_type": "display_data"
    },
    {
     "name": "stdout",
     "output_type": "stream",
     "text": [
      "2\n",
      "Input: the goals of philanthropist and aid groups working on global problems should not only be having an immediate impact but helping to create long - term ways for people to feel they have control over their lives , former president bill clinton said on the opening day of the clinton global initiative conference . _eos_ \n",
      "\n",
      "Original summary: politics business activism combine at clinton global initiative _eos_ \n",
      "\n",
      "Predicted summary: clinton control control clinton clinton global global _eos_\n"
     ]
    },
    {
     "data": {
      "image/png": "[encoded data removed]",
      "text/plain": [
       "<Figure size 720x720 with 1 Axes>"
      ]
     },
     "metadata": {},
     "output_type": "display_data"
    }
   ],
   "source": [
    "# Luong (Global Dot) Attention\n",
    "x,y = next(iter(model_data.trn_dl))\n",
    "for i in range(3):\n",
    "    print(i)\n",
    "    preds, attention, encoder_embedding = generate(x.transpose(1,0)[i].unsqueeze(1).contiguous(), \n",
    "                                                   y.transpose(1,0)[i].unsqueeze(1), \n",
    "                                                   learn_luong)"
   ]
  },
  {
   "cell_type": "markdown",
   "metadata": {},
   "source": [
    "## Analysis\n",
    "One of the immediate problems we can observe from the generated summaries is that they are not coherent and there are a lot of repeated phrases or words. Those are very common problems in this type of models and that is why text summarization is still an active area of research. "
   ]
  },
  {
   "cell_type": "markdown",
   "metadata": {},
   "source": [
    "## References\n",
    "- [Scheduled Sampling for Sequence Prediction with Recurrent Neural Networks](https://arxiv.org/abs/1506.03099)\n",
    "- [Using the Output Embedding to Improve Language Models](https://arxiv.org/pdf/1608.05859.pdf)\n",
    "- [Abstractive Text Summarization using Sequence-to-sequence RNNs and Beyong](https://arxiv.org/pdf/1602.06023.pdf)\n",
    "- [Effective Approaches to Attention-based Neural Machine Translation\n",
    "](https://arxiv.org/pdf/1508.04025.pdf)\n",
    "- [Neural Machine Translation by Jointly Learning to Align and Translate](https://arxiv.org/abs/1409.0473)\n",
    "- [Learn more about teacher forcing in RNNs](https://machinelearningmastery.com/teacher-forcing-for-recurrent-neural-networks/)\n",
    "- [Your TL;DR by an AI: A Deep Reinforced Model for Abstractive Summarization](https://www.salesforce.com/products/einstein/ai-research/tl-dr-reinforced-model-abstractive-summarization/)"
   ]
  },
  {
   "cell_type": "markdown",
   "metadata": {},
   "source": [
    "## Credit\n",
    "Please note that the credit for this notebook goes to GitHub username [alesee](https://github.com/alesee/abstractive-text-summarization). I merely added a few more explanations to the code sections and added a few minor fixes. I thank the author for releasing the code, which is hosted [here](https://github.com/alesee/abstractive-text-summarization/blob/master/abstractive-text-summ.ipynb)."
   ]
  },
  {
   "cell_type": "code",
   "execution_count": null,
   "metadata": {},
   "outputs": [],
   "source": []
  }
 ],
 "metadata": {
  "kernelspec": {
   "display_name": "Python 3",
   "language": "python",
   "name": "python3"
  },
  "language_info": {
   "codemirror_mode": {
    "name": "ipython",
    "version": 3
   },
   "file_extension": ".py",
   "mimetype": "text/x-python",
   "name": "python",
   "nbconvert_exporter": "python",
   "pygments_lexer": "ipython3",
   "version": "3.6.0"
  }
 },
 "nbformat": 4,
 "nbformat_minor": 2
}
